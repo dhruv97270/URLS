{
  "nbformat": 4,
  "nbformat_minor": 0,
  "metadata": {
    "colab": {
      "provenance": []
    },
    "kernelspec": {
      "name": "python3",
      "display_name": "Python 3"
    },
    "language_info": {
      "name": "python"
    }
  },
  "cells": [
    {
      "cell_type": "code",
      "execution_count": 1,
      "metadata": {
        "colab": {
          "base_uri": "https://localhost:8080/"
        },
        "id": "7r2ZSID7YmIC",
        "outputId": "601a886a-1464-44ae-cfa8-5ce4c92cb555"
      },
      "outputs": [
        {
          "output_type": "stream",
          "name": "stderr",
          "text": [
            "/usr/local/lib/python3.10/dist-packages/sklearn/linear_model/_logistic.py:458: ConvergenceWarning: lbfgs failed to converge (status=1):\n",
            "STOP: TOTAL NO. of ITERATIONS REACHED LIMIT.\n",
            "\n",
            "Increase the number of iterations (max_iter) or scale the data as shown in:\n",
            "    https://scikit-learn.org/stable/modules/preprocessing.html\n",
            "Please also refer to the documentation for alternative solver options:\n",
            "    https://scikit-learn.org/stable/modules/linear_model.html#logistic-regression\n",
            "  n_iter_i = _check_optimize_result(\n"
          ]
        },
        {
          "output_type": "stream",
          "name": "stdout",
          "text": [
            "Accuracy: 0.79\n",
            "              precision    recall  f1-score   support\n",
            "\n",
            "           0       0.84      0.93      0.89     85778\n",
            "           1       0.63      0.95      0.75     19104\n",
            "           2       0.80      0.51      0.62      6521\n",
            "           3       0.39      0.05      0.09     18836\n",
            "\n",
            "    accuracy                           0.79    130239\n",
            "   macro avg       0.66      0.61      0.59    130239\n",
            "weighted avg       0.74      0.79      0.74    130239\n",
            "\n"
          ]
        }
      ],
      "source": [
        "import pandas as pd\n",
        "from sklearn.model_selection import train_test_split\n",
        "from sklearn.linear_model import LogisticRegression\n",
        "from sklearn.preprocessing import LabelEncoder\n",
        "from sklearn.metrics import accuracy_score, classification_report\n",
        "\n",
        "# Assuming df is your initial DataFrame\n",
        "# Load the dataset (replace with your actual dataset)\n",
        "df = pd.read_csv(\"malicious_phish.csv\")\n",
        "\n",
        "# Feature Engineering and Data Cleaning\n",
        "df['http_presence'] = df['url'].apply(lambda x: 1 if 'http' in x else 0)\n",
        "df['url_length'] = df['url'].apply(len)\n",
        "df['count_digits'] = df['url'].apply(lambda x: sum(c.isdigit() for c in x))\n",
        "df['count_letters'] = df['url'].apply(lambda x: sum(c.isalpha() for c in x))\n",
        "\n",
        "# Feature Extraction\n",
        "X = df[['http_presence', 'url_length', 'count_digits', 'count_letters']]\n",
        "y = df['type']\n",
        "\n",
        "# Encode the 'type' labels\n",
        "label_encoder = LabelEncoder()\n",
        "y_encoded = label_encoder.fit_transform(y)\n",
        "\n",
        "# Split the data into training and testing sets\n",
        "X_train, X_test, y_train, y_test = train_test_split(X, y_encoded, test_size=0.2, random_state=42)\n",
        "\n",
        "# Train the logistic regression model\n",
        "model = LogisticRegression()\n",
        "model.fit(X_train, y_train)\n",
        "\n",
        "# Make predictions on the test set\n",
        "y_pred = model.predict(X_test)\n",
        "\n",
        "# Evaluate the model\n",
        "accuracy = accuracy_score(y_test, y_pred)\n",
        "print(f'Accuracy: {accuracy:.2f}')\n",
        "\n",
        "# Display classification report\n",
        "print(classification_report(y_test, y_pred))\n",
        "\n",
        "# Function to predict the type of a new URL\n",
        "def predict_url_type(model, input_url):\n",
        "    http_presence = 1 if 'http' in input_url else 0\n",
        "    url_length = len(input_url)\n",
        "    count_digits = sum(c.isdigit() for c in input_url)\n",
        "    count_letters = sum(c.isalpha() for c in input_url)\n",
        "\n",
        "    # Make prediction\n",
        "    new_data = [[http_presence, url_length, count_digits, count_letters]]\n",
        "    prediction = model.predict(new_data)\n",
        "\n",
        "    # Decode the label back to 'type'\n",
        "    predicted_type = label_encoder.inverse_transform(prediction)[0]\n",
        "\n",
        "    return predicted_type"
      ]
    },
    {
      "cell_type": "code",
      "source": [
        "while True:\n",
        "    # User input for a new URL\n",
        "    user_input_url = input(\"Enter a URL (or 'exit' to quit): \")\n",
        "\n",
        "    # Check if the user wants to exit\n",
        "    if user_input_url.lower() == 'exit':\n",
        "        print(\"Exiting...\")\n",
        "        break\n",
        "\n",
        "    # Get prediction using the best model\n",
        "    prediction_result = predict_url_type(model, user_input_url)\n",
        "\n",
        "    # Display the prediction with colored text\n",
        "    if prediction_result == 'benign':\n",
        "        print(\"The model predicts that the URL is \\033[92m NON-MALICIOUS\\033[0m\")  # Green color\n",
        "    else:\n",
        "        print(\"The model predicts that the URL is \\033[91m MALICIOUS\\033[0m\")  # Red color\n"
      ],
      "metadata": {
        "colab": {
          "base_uri": "https://localhost:8080/"
        },
        "id": "ZPZTcREIY42T",
        "outputId": "90f39de5-00bb-4ede-efb9-b7f961cd95a1"
      },
      "execution_count": 12,
      "outputs": [
        {
          "name": "stdout",
          "output_type": "stream",
          "text": [
            "Enter a URL (or 'exit' to quit): www.apple.com\n"
          ]
        },
        {
          "output_type": "stream",
          "name": "stderr",
          "text": [
            "/usr/local/lib/python3.10/dist-packages/sklearn/base.py:439: UserWarning: X does not have valid feature names, but LogisticRegression was fitted with feature names\n",
            "  warnings.warn(\n"
          ]
        },
        {
          "output_type": "stream",
          "name": "stdout",
          "text": [
            "The model predicts that the URL is \u001b[92m NON-MALICIOUS\u001b[0m\n",
            "Enter a URL (or 'exit' to quit): exit\n",
            "Exiting...\n"
          ]
        }
      ]
    },
    {
      "cell_type": "code",
      "source": [],
      "metadata": {
        "id": "8z9uAG_hZPLU"
      },
      "execution_count": 3,
      "outputs": []
    }
  ]
}